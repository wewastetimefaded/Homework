{
 "cells": [
  {
   "attachments": {},
   "cell_type": "markdown",
   "id": "a7290f35-4700-4f65-9660-9984054ba274",
   "metadata": {},
   "source": [
    "Кумакшев Феликс Владимирович; ТФэ-01-21"
   ]
  },
  {
   "attachments": {
    "0f14bef6-c106-491b-83a7-f051271656e0.png": {
     "image/png": "[encoded data removed]"
    }
   },
   "cell_type": "markdown",
   "id": "373e0ec6-7600-4764-9c10-7cd0223f1b23",
   "metadata": {},
   "source": [
    "![image.png](attachment:0f14bef6-c106-491b-83a7-f051271656e0.png)"
   ]
  },
  {
   "cell_type": "code",
   "execution_count": 1,
   "id": "4fe40018-af3e-4c48-a580-4bdf656fc3de",
   "metadata": {},
   "outputs": [],
   "source": [
    "import numpy as np\n",
    "import matplotlib.pyplot as plt\n",
    "import pandas as pd"
   ]
  },
  {
   "cell_type": "code",
   "execution_count": 2,
   "id": "bf95fee4-67fb-4760-bad6-a11e73c945fc",
   "metadata": {},
   "outputs": [],
   "source": [
    "c_1_a = c_2_a = w_1_a = w_2_a = 145\n",
    "u = 328\n",
    "c_1_u= 70\n",
    "stage_work = 25 * 10**3\n"
   ]
  },
  {
   "cell_type": "markdown",
   "id": "b6078069-048b-4533-a830-94cd16682a45",
   "metadata": {},
   "source": [
    "С1 = С1а/sin(a1) \n",
    "\n",
    "C1 = C1u/cos(a1)\n",
    "\n",
    "tg(a1) = C1a/C1u"
   ]
  },
  {
   "cell_type": "code",
   "execution_count": 3,
   "id": "acd6ded0-aab1-4f5d-900d-f33bfb8adf4e",
   "metadata": {},
   "outputs": [
    {
     "data": {
      "text/plain": [
       "64.23067237566129"
      ]
     },
     "execution_count": 3,
     "metadata": {},
     "output_type": "execute_result"
    }
   ],
   "source": [
    "a_1 = np.rad2deg(np.arctan(c_1_a/c_1_u))\n",
    "a_1"
   ]
  },
  {
   "cell_type": "code",
   "execution_count": 4,
   "id": "a5736bbc-d009-4b26-95cf-018a08aca11f",
   "metadata": {},
   "outputs": [
    {
     "data": {
      "text/plain": [
       "161.0124218810462"
      ]
     },
     "execution_count": 4,
     "metadata": {},
     "output_type": "execute_result"
    }
   ],
   "source": [
    "c_1 = c_1_u/np.cos(np.deg2rad(a_1))\n",
    "c_1"
   ]
  },
  {
   "cell_type": "code",
   "execution_count": 5,
   "id": "8f867025-82de-431b-a683-8ec29f346bc8",
   "metadata": {},
   "outputs": [
    {
     "data": {
      "text/plain": [
       "76.21951219512195"
      ]
     },
     "execution_count": 5,
     "metadata": {},
     "output_type": "execute_result"
    }
   ],
   "source": [
    "delta_w_u = stage_work / u\n",
    "delta_w_u"
   ]
  },
  {
   "cell_type": "code",
   "execution_count": 6,
   "id": "d73ea632-8a7f-44ff-971f-7f7405734671",
   "metadata": {},
   "outputs": [
    {
     "data": {
      "text/plain": [
       "-258"
      ]
     },
     "execution_count": 6,
     "metadata": {},
     "output_type": "execute_result"
    }
   ],
   "source": [
    "w_1_u = c_1_u - u\n",
    "w_1_u"
   ]
  },
  {
   "cell_type": "code",
   "execution_count": 7,
   "id": "09fb8d20-139a-4a5e-98b9-0e9cbe7f6359",
   "metadata": {},
   "outputs": [
    {
     "data": {
      "text/plain": [
       "295.95438837766875"
      ]
     },
     "execution_count": 7,
     "metadata": {},
     "output_type": "execute_result"
    }
   ],
   "source": [
    "w_1 = (w_1_a ** 2 + w_1_u ** 2) ** 0.5\n",
    "w_1"
   ]
  },
  {
   "cell_type": "code",
   "execution_count": 8,
   "id": "d829cf90-e2ed-4a9b-aef1-eeb4cbcceeea",
   "metadata": {},
   "outputs": [
    {
     "data": {
      "text/plain": [
       "150.66333822121572"
      ]
     },
     "execution_count": 8,
     "metadata": {},
     "output_type": "execute_result"
    }
   ],
   "source": [
    "beta_1 = np.rad2deg(np.arccos(w_1_u / w_1))\n",
    "beta_1"
   ]
  },
  {
   "cell_type": "code",
   "execution_count": 9,
   "id": "a4f3dadb-73da-4fab-9196-df7b645da2cd",
   "metadata": {},
   "outputs": [
    {
     "data": {
      "text/plain": [
       "-181.78048780487805"
      ]
     },
     "execution_count": 9,
     "metadata": {},
     "output_type": "execute_result"
    }
   ],
   "source": [
    "w_2_u = w_1_u + delta_w_u\n",
    "w_2_u"
   ]
  },
  {
   "cell_type": "code",
   "execution_count": 10,
   "id": "146d2e49-5adc-4fa7-b7ed-e8daa5fa2a20",
   "metadata": {},
   "outputs": [
    {
     "data": {
      "text/plain": [
       "232.52773113454535"
      ]
     },
     "execution_count": 10,
     "metadata": {},
     "output_type": "execute_result"
    }
   ],
   "source": [
    "w_2 = (w_2_a ** 2 + w_2_u**2) ** 0.5\n",
    "w_2"
   ]
  },
  {
   "cell_type": "code",
   "execution_count": 11,
   "id": "067b460d-582c-4118-91c6-fdda832de925",
   "metadata": {},
   "outputs": [
    {
     "data": {
      "text/plain": [
       "141.42184838351756"
      ]
     },
     "execution_count": 11,
     "metadata": {},
     "output_type": "execute_result"
    }
   ],
   "source": [
    "beta_2 = np.rad2deg(np.arccos(w_2_u / w_2))\n",
    "beta_2"
   ]
  },
  {
   "cell_type": "code",
   "execution_count": 12,
   "id": "a222f922-08ca-4ae8-a543-3931d43aa502",
   "metadata": {},
   "outputs": [
    {
     "data": {
      "text/plain": [
       "146.21951219512195"
      ]
     },
     "execution_count": 12,
     "metadata": {},
     "output_type": "execute_result"
    }
   ],
   "source": [
    "delta_c_u = delta_w_u\n",
    "c_2_u = c_1_u + delta_c_u\n",
    "c_2_u"
   ]
  },
  {
   "cell_type": "code",
   "execution_count": 13,
   "id": "4624ae89-dd6b-4a72-b3bc-695f93c22858",
   "metadata": {},
   "outputs": [
    {
     "data": {
      "text/plain": [
       "205.92509741791898"
      ]
     },
     "execution_count": 13,
     "metadata": {},
     "output_type": "execute_result"
    }
   ],
   "source": [
    "c_2 = (c_2_u ** 2 + c_2_a ** 2) ** 0.5\n",
    "c_2"
   ]
  },
  {
   "cell_type": "code",
   "execution_count": 14,
   "id": "16770695-f1f3-4490-8d00-5de8974fb3e9",
   "metadata": {},
   "outputs": [
    {
     "data": {
      "text/plain": [
       "44.76006932745793"
      ]
     },
     "execution_count": 14,
     "metadata": {},
     "output_type": "execute_result"
    }
   ],
   "source": [
    "alpha_2 = np.rad2deg(np.arcsin(c_2_a / c_2))\n",
    "alpha_2"
   ]
  },
  {
   "cell_type": "code",
   "execution_count": 15,
   "id": "4a0c5364-417b-4c9c-bce4-85ca1bea3df5",
   "metadata": {},
   "outputs": [
    {
     "data": {
      "text/plain": [
       "[<matplotlib.lines.Line2D at 0x2d22e0f7a10>]"
      ]
     },
     "execution_count": 15,
     "metadata": {},
     "output_type": "execute_result"
    },
    {
     "data": {
      "image/png": "[encoded data removed]",
      "text/plain": [
       "<Figure size 1500x500 with 1 Axes>"
      ]
     },
     "metadata": {},
     "output_type": "display_data"
    }
   ],
   "source": [
    "fig, ax = plt.subplots(1, 1, figsize=(15,5))\n",
    "ax.plot([0, -c_1_u], [0, -c_1_a], label='C_1', color='red',linestyle=\"dotted\")\n",
    "ax.plot([0, -w_1_u], [0, -w_1_a], label='W_1', color='green',linestyle=\"dotted\")\n",
    "ax.plot([-c_1_u, -c_1_u + u], [-c_1_a, -c_1_a], label='u', color='blue',linestyle=\"dotted\")\n",
    "ax.plot([0, -c_2_u], [0, -c_2_a], label='C_1', color='red',linestyle=\"dashed\")\n",
    "ax.plot([0, -w_2_u], [0, -w_2_a], label='W_1', color='green',linestyle=\"dashed\")\n",
    "ax.plot([-c_2_u, -c_2_u + u], [-c_2_a, -c_2_a], label='u', color='blue',linestyle=\"dashed\")"
   ]
  },
  {
   "cell_type": "code",
   "execution_count": 16,
   "id": "4b6f21e8-c9a0-438b-a8db-17d9cd55f95b",
   "metadata": {},
   "outputs": [],
   "source": [
    "table = pd.DataFrame({\n",
    "    \"absolute_speed\": [c_1, c_2],\n",
    "    \"absolute_angle\": [a_1, alpha_2],\n",
    "    \"relative_speed\": [w_1, w_2],\n",
    "    \"relative_angle\": [beta_1, beta_2],\n",
    "    \"triangle\": [\"inlet\", \"outlet\"],\n",
    "}).set_index(\"triangle\")"
   ]
  },
  {
   "cell_type": "code",
   "execution_count": 17,
   "id": "35e7c66b-036b-4570-bf23-f43e13f87f43",
   "metadata": {},
   "outputs": [
    {
     "data": {
      "text/html": [
       "<div>\n",
       "<style scoped>\n",
       "    .dataframe tbody tr th:only-of-type {\n",
       "        vertical-align: middle;\n",
       "    }\n",
       "\n",
       "    .dataframe tbody tr th {\n",
       "        vertical-align: top;\n",
       "    }\n",
       "\n",
       "    .dataframe thead th {\n",
       "        text-align: right;\n",
       "    }\n",
       "</style>\n",
       "<table border=\"1\" class=\"dataframe\">\n",
       "  <thead>\n",
       "    <tr style=\"text-align: right;\">\n",
       "      <th></th>\n",
       "      <th>absolute_speed</th>\n",
       "      <th>absolute_angle</th>\n",
       "      <th>relative_speed</th>\n",
       "      <th>relative_angle</th>\n",
       "    </tr>\n",
       "    <tr>\n",
       "      <th>triangle</th>\n",
       "      <th></th>\n",
       "      <th></th>\n",
       "      <th></th>\n",
       "      <th></th>\n",
       "    </tr>\n",
       "  </thead>\n",
       "  <tbody>\n",
       "    <tr>\n",
       "      <th>inlet</th>\n",
       "      <td>161.012422</td>\n",
       "      <td>64.230672</td>\n",
       "      <td>295.954388</td>\n",
       "      <td>150.663338</td>\n",
       "    </tr>\n",
       "    <tr>\n",
       "      <th>outlet</th>\n",
       "      <td>205.925097</td>\n",
       "      <td>44.760069</td>\n",
       "      <td>232.527731</td>\n",
       "      <td>141.421848</td>\n",
       "    </tr>\n",
       "  </tbody>\n",
       "</table>\n",
       "</div>"
      ],
      "text/plain": [
       "          absolute_speed  absolute_angle  relative_speed  relative_angle\n",
       "triangle                                                                \n",
       "inlet         161.012422       64.230672      295.954388      150.663338\n",
       "outlet        205.925097       44.760069      232.527731      141.421848"
      ]
     },
     "execution_count": 17,
     "metadata": {},
     "output_type": "execute_result"
    }
   ],
   "source": [
    "table"
   ]
  },
  {
   "cell_type": "code",
   "execution_count": 18,
   "id": "c9f65697-4c4f-4dbd-b354-c3be90df3ec2",
   "metadata": {},
   "outputs": [
    {
     "data": {
      "text/plain": [
       "9.241489837698168"
      ]
     },
     "execution_count": 18,
     "metadata": {},
     "output_type": "execute_result"
    }
   ],
   "source": [
    "delta_beta = beta_1 - beta_2\n",
    "delta_beta"
   ]
  },
  {
   "cell_type": "code",
   "execution_count": null,
   "id": "c9d70469-33b8-4ce6-a58d-d675d2d04358",
   "metadata": {},
   "outputs": [],
   "source": []
  },
  {
   "cell_type": "code",
   "execution_count": null,
   "id": "64c2e487-51f4-4f58-8973-869f9545619b",
   "metadata": {},
   "outputs": [],
   "source": []
  },
  {
   "cell_type": "code",
   "execution_count": null,
   "id": "3148cd1f-d436-424c-8c04-31f6128bbda6",
   "metadata": {},
   "outputs": [],
   "source": []
  }
 ],
 "metadata": {
  "kernelspec": {
   "display_name": "Python 3 (ipykernel)",
   "language": "python",
   "name": "python3"
  },
  "language_info": {
   "codemirror_mode": {
    "name": "ipython",
    "version": 3
   },
   "file_extension": ".py",
   "mimetype": "text/x-python",
   "name": "python",
   "nbconvert_exporter": "python",
   "pygments_lexer": "ipython3",
   "version": "3.12.0"
  }
 },
 "nbformat": 4,
 "nbformat_minor": 5
}
