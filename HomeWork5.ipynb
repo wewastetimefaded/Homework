{
 "cells": [
  {
   "cell_type": "code",
   "execution_count": null,
   "id": "449996b5-1a6b-4870-beb2-05b498a908ed",
   "metadata": {},
   "outputs": [],
   "source": [
    "Кумакшев Феликс; ТФэ-01-21"
   ]
  },
  {
   "cell_type": "code",
   "execution_count": 4,
   "id": "334e8153-9dea-4741-b92c-4e1d0907fe38",
   "metadata": {},
   "outputs": [
    {
     "name": "stdout",
     "output_type": "stream",
     "text": [
      "Массовый расход в турбину на входе 274.8208415072751\n",
      "Массовый расход в конденсатор: 174.56654510053676\n"
     ]
    }
   ],
   "source": [
    "import iapws\n",
    "from iapws import IAPWS97 as gas\n",
    "MPa = 10 ** 6\n",
    "kPa = 10 ** 3\n",
    "MBt = 10 ** 6\n",
    "unit = 1 / MPa\n",
    "to_kelvin = lambda x: x + 273.15 if x else None\n",
    "electrical_power = 250 * MBt \n",
    "p_0 = 23.5 * MPa \n",
    "t_0 = 540 \n",
    "p_k = 6.9 * kPa \n",
    "z = 7\n",
    "t_feed_water = 263\n",
    "p_feed_water = 1.35 * p_0 \n",
    "t_nas_0 = 374.2\n",
    "mechanical_efficiency = 0.992\n",
    "generator_efficiency = 0.99 \n",
    "internal_efficiency = 0.85 \n",
    "delta_cvd = 0.05 * p_0 \n",
    "real_p_0 = p_0 - delta_cvd\n",
    "teor_point_0 = gas(P = p_0 * unit, T=to_kelvin(t_0))\n",
    "point_0 = gas(P=real_p_0 * unit, h=teor_point_0.h)\n",
    "point_feed_water = gas(P=p_feed_water * unit, T=to_kelvin(t_feed_water))\n",
    "point_k_kip_water = gas(P=p_k * unit, x=0)\n",
    "teor_point_k = gas(P=p_k * unit, s = teor_point_0.s)\n",
    "heat_drop_i = ( teor_point_0.h - teor_point_k.h) * internal_efficiency\n",
    "h_k = teor_point_0.h - heat_drop_i\n",
    "point_k = gas(P = p_k * unit, h = h_k)\n",
    "# Расчет относительного КПД ЦВД\n",
    "efficiency_oi = (teor_point_0.h - point_k.h)/(teor_point_0.h - teor_point_k.h)\n",
    "efficiency_oi\n",
    "numenator_without = point_k.T * (teor_point_0.s - point_k_kip_water.s)\n",
    "denumenator_without = teor_point_0.h - point_k_kip_water.h\n",
    "without_part = 1 - (numenator_without/denumenator_without)\n",
    "numenator_infinity = point_k.T * (teor_point_0.s - point_feed_water.s)\n",
    "denumenator_infinity =  teor_point_0.h - point_feed_water.h\n",
    "infinity_part = 1 - (numenator_infinity / denumenator_infinity)\n",
    "ksi_infinity = 1 - (without_part / infinity_part)\n",
    "ksi_infinity\n",
    "koef = (point_feed_water.T - point_k.T) / (to_kelvin(t_nas_0) - point_k.T)\n",
    "koef\n",
    "ksi = 0.86 * ksi_infinity\n",
    "ksi\n",
    "eff_num = (teor_point_0.h - teor_point_k.h) * internal_efficiency\n",
    "eff_denum =  teor_point_0.h - point_k_kip_water.h\n",
    "efficiency = (eff_num / eff_denum) * (1 + ksi)\n",
    "efficiency,eff_num,eff_denum\n",
    "estimated_heat_drop = efficiency * (teor_point_0.h - point_feed_water.h)\n",
    "estimated_heat_drop\n",
    "inlet_mass_flow = electrical_power / (estimated_heat_drop * 1000 * mechanical_efficiency * generator_efficiency)\n",
    "inlet_mass_flow\n",
    "mass_flow_denum = 1000 * (point_k.h - point_k_kip_water.h) * mechanical_efficiency * generator_efficiency\n",
    "mass_flow_factor = (1/efficiency) - 1\n",
    "condenser_mass_flow = (electrical_power * mass_flow_factor)/mass_flow_denum\n",
    "condenser_mass_flow\n",
    "print(\"Массовый расход в турбину на входе\", inlet_mass_flow)\n",
    "print(\"Массовый расход в конденсатор:\", condenser_mass_flow)"
   ]
  }
 ],
 "metadata": {
  "kernelspec": {
   "display_name": "Python 3 (ipykernel)",
   "language": "python",
   "name": "python3"
  },
  "language_info": {
   "codemirror_mode": {
    "name": "ipython",
    "version": 3
   },
   "file_extension": ".py",
   "mimetype": "text/x-python",
   "name": "python",
   "nbconvert_exporter": "python",
   "pygments_lexer": "ipython3",
   "version": "3.12.0"
  }
 },
 "nbformat": 4,
 "nbformat_minor": 5
}
