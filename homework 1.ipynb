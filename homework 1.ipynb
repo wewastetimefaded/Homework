{
 "cells": [
  {
   "attachments": {},
   "cell_type": "markdown",
   "id": "99bb7237-77da-4d12-88ac-8507ff895154",
   "metadata": {},
   "source": [
    "Кумакшев Феликс Владимирович; ТФэ-01-21"
   ]
  },
  {
   "cell_type": "code",
   "execution_count": 1,
   "id": "ff064f19-2f10-45c1-8fd0-0a2ef8c3c0f1",
   "metadata": {},
   "outputs": [],
   "source": [
    "import math\n",
    "from iapws_model import IapwsModel\n",
    "from ideal_gas_model import IdealGasModel\n",
    "to_kelvin = lambda x: x + 273.15 if x else None"
   ]
  },
  {
   "cell_type": "code",
   "execution_count": 2,
   "id": "1bbc5ec2-6ec9-4795-a777-5eef64960691",
   "metadata": {},
   "outputs": [],
   "source": [
    "gas_const = 8.31\n",
    "c_p = 1.004"
   ]
  },
  {
   "cell_type": "code",
   "execution_count": 3,
   "id": "587a0b83-2f23-47b8-a28c-60077ff165aa",
   "metadata": {},
   "outputs": [],
   "source": [
    "steam = IapwsModel(p = 23, t = to_kelvin(160))\n",
    "gas = IdealGasModel(gas_const = 8.31, c_p = 1.004, p = 23, t =to_kelvin(160))"
   ]
  },
  {
   "cell_type": "code",
   "execution_count": 4,
   "id": "a1a5c6ca-5c4d-4310-b4b4-de64324a9a9b",
   "metadata": {},
   "outputs": [
    {
     "data": {
      "text/plain": [
       "688.9883960784211"
      ]
     },
     "execution_count": 4,
     "metadata": {},
     "output_type": "execute_result"
    }
   ],
   "source": [
    "h = steam.h\n",
    "h"
   ]
  },
  {
   "cell_type": "code",
   "execution_count": 5,
   "id": "e6a7d12d-ed74-4e0c-ae94-242d957244b6",
   "metadata": {},
   "outputs": [
    {
     "data": {
      "text/plain": [
       "0.001086706060367718"
      ]
     },
     "execution_count": 5,
     "metadata": {},
     "output_type": "execute_result"
    }
   ],
   "source": [
    "v = steam.v\n",
    "v"
   ]
  },
  {
   "cell_type": "code",
   "execution_count": 6,
   "id": "37b76151-a9b5-44a2-8930-bdf6f5e20476",
   "metadata": {},
   "outputs": [
    {
     "data": {
      "text/plain": [
       "434.88259999999997"
      ]
     },
     "execution_count": 6,
     "metadata": {},
     "output_type": "execute_result"
    }
   ],
   "source": [
    "h = gas.h\n",
    "h"
   ]
  },
  {
   "cell_type": "markdown",
   "id": "4edd6269-3a22-41cb-afb1-be2a28757eb6",
   "metadata": {},
   "source": [
    "## Рассмотрим изоэнтропийный процесс"
   ]
  },
  {
   "cell_type": "code",
   "execution_count": 7,
   "id": "165a75bc-fc3f-499d-9f09-8e1db0209725",
   "metadata": {},
   "outputs": [
    {
     "data": {
      "text/plain": [
       "0.02437639567698627"
      ]
     },
     "execution_count": 7,
     "metadata": {},
     "output_type": "execute_result"
    }
   ],
   "source": [
    "v2 = gas.isentropic_process(p1 = 23, v1 = v, t1 = to_kelvin(160), p2 = 15, t2 = to_kelvin(80))\n",
    "v2"
   ]
  },
  {
   "cell_type": "code",
   "execution_count": 9,
   "id": "5e54f312-98d3-4a31-bf17-af781c9b9157",
   "metadata": {},
   "outputs": [
    {
     "data": {
      "text/plain": [
       "0.0010909523406038926"
      ]
     },
     "execution_count": 9,
     "metadata": {},
     "output_type": "execute_result"
    }
   ],
   "source": [
    "v2 = steam.isentropic_process(p1 = 23, v1 = v, t1 = to_kelvin(160), p2 = 15, t2 = to_kelvin(80))\n",
    "v2"
   ]
  }
 ],
 "metadata": {
  "kernelspec": {
   "display_name": "Python 3 (ipykernel)",
   "language": "python",
   "name": "python3"
  },
  "language_info": {
   "codemirror_mode": {
    "name": "ipython",
    "version": 3
   },
   "file_extension": ".py",
   "mimetype": "text/x-python",
   "name": "python",
   "nbconvert_exporter": "python",
   "pygments_lexer": "ipython3",
   "version": "3.12.0"
  }
 },
 "nbformat": 4,
 "nbformat_minor": 5
}
